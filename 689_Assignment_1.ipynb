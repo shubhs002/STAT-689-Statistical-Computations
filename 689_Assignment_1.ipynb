{
 "cells": [
  {
   "cell_type": "markdown",
   "metadata": {},
   "source": [
    "# Dixit, Pawan - Homework 1\n",
    "\n",
    "### Submission\n",
    "Replace Last Name, First Name above with your name. When you complete this homework, please click \"File\" -> \"Print Preview\". Print the resulting browser tab (double check that all code / markdown is there and that plots are visible). Submit a physical copy of your homework in class on January 31.\n",
    "\n",
    "### R versus Python\n",
    "You may complete this homework in either R or python. The current notebook is written in R. If you are completing your homework in R, you can simply modify this notebook with your answers. If you are completing your homework in python, initiate a Jupyter python notebook and write your answers there.\n",
    "\n",
    "### Background Reading for Problems\n",
    "- Section 22.1 - 22.5 in \"Numerical Analysis\" by Lange."
   ]
  },
  {
   "cell_type": "markdown",
   "metadata": {},
   "source": [
    "## Question 1: Inverse Method for exponentials\n",
    "\n",
    "1. Use the inverse method and the language $Unif[0,1]$ generator (runif in R, numpy.random.uniform in python), to generate random deviates from an exponential distribution with mean $\\mu$. $\\mu$ and the number of random deviates should be arguments to your function. This is Example 22.3.1 in Lange. Be aware that there are two standard methods for parameterizing the exponential.\n",
    "2. For some particular $\\mu$ of your choosing, make a histogram of the random deviates and plot the appropriate exponential density curve on top of the histogram to confirm that the generator is working. Verify that the mean and standard deviation are what they should be.\n",
    "3. Compare the speed of your exponential generator to the language generator (rexp in R, numpy.random.exponential in python). Try to make your generator computationally competitive with the built in generator, by avoiding for loops and other slow code."
   ]
  },
  {
   "cell_type": "markdown",
   "metadata": {},
   "source": [
    "## Question 2: Simulation Study of the LLN and CLT\n",
    "\n",
    "1. Create a $n \\times p$ matrix $X$ with $n=100$ and $p=1000$ and each entry $1$ with probability $0.5$ and $0$ with probability $0.5$. If you would like some intuition for this simulation consider this: Suppose 1/2 of all voters support proposition A. We conduct 100 surveys (number of rows of X) each with 1000 voters (number of columns = sample size of poll). A voter responds 1 if they support A, 0 if they do not support A. Note on Confusing Notation: The sample size of each poll is $p$. Usually $n$ is sample size.\n",
    "2. Compute the running mean of each row of $X$ to produce a new matrix $Y$ which is again $100 \\times 1000$. Specifically the row $i$, column $j$ entry of $Y$ is\n",
    "$$Y_{ij} = \\frac{1}{j} \\sum_{k=1}^j X_{ik}$$\n",
    "Try to avoid using nested for loops.\n",
    "3. Plot each row of $Y$ (on the y--axis) against the column number (on the x--axis). This will result in 1 plot with 100 lines. Then make three histograms 1) first column of $Y$, 2) 10th column of $Y$, and 3) the last column of $Y$. Your images should roughly look like what is below. (If you want to make the results clearer and prettier, draw all histograms or density estimators on top of each other with different colors, see lecture notes from the first class [here](https://longjp.github.io/statcomp/lectures/00intro.ipynb) for how to do this with ggplot in R or [here](https://jakevdp.github.io/PythonDataScienceHandbook/04.05-histograms-and-binnings.html) for code in python from VanderPlas) What is this simulation showing?"
   ]
  },
  {
   "cell_type": "markdown",
   "metadata": {},
   "source": [
    "(requires internet connection to view)\n",
    "\n",
    "<img src=\"https://longjp.github.io/statcomp/hw/lln_plot.png\">\n"
   ]
  },
  {
   "cell_type": "markdown",
   "metadata": {
    "collapsed": true
   },
   "source": [
    "(requires internet connection to view)\n",
    "\n",
    "<img src=\"https://longjp.github.io/statcomp/hw/clt_histograms.png\">\n"
   ]
  },
  {
   "cell_type": "code",
   "execution_count": null,
   "metadata": {
    "collapsed": true
   },
   "outputs": [],
   "source": []
  }
 ],
 "metadata": {
  "kernelspec": {
   "display_name": "R",
   "language": "R",
   "name": "ir"
  },
  "language_info": {
   "codemirror_mode": "r",
   "file_extension": ".r",
   "mimetype": "text/x-r-source",
   "name": "R",
   "pygments_lexer": "r",
   "version": "3.3.2"
  }
 },
 "nbformat": 4,
 "nbformat_minor": 2
}
